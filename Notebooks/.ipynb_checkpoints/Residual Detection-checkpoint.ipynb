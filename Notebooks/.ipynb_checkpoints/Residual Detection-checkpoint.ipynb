{
 "metadata": {
  "name": "",
  "signature": "sha256:9ed1cd628033398f2871e5d158477befb7dea854eee88b4172699f46d68eee02"
 },
 "nbformat": 3,
 "nbformat_minor": 0,
 "worksheets": []
}