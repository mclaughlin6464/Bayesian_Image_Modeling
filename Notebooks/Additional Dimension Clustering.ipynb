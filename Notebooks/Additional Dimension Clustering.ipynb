{
 "metadata": {
  "name": "",
  "signature": "sha256:80c1fe7a6a3c610a74a63e602680e42f75de6daf516ba55c96a807b5f5a8ba0c"
 },
 "nbformat": 3,
 "nbformat_minor": 0,
 "worksheets": [
  {
   "cells": [
    {
     "cell_type": "code",
     "collapsed": false,
     "input": [
      "import numpy as np\n",
      "from matplotlib import pyplot as plt\n",
      "from sklearn.cluster import KMeans\n",
      "from itertools import izip\n",
      "from scipy.stats import mode\n",
      "from mpl_toolkits.mplot3d import Axes3D\n",
      "#%matplotlib inline\n",
      "\n",
      "def calcsCluster(samples, N, decimals = 2, n_clusters = 3):\n",
      "    #select the parameters with a clustering approach\n",
      "\n",
      "    #FIX for covariance matricies\n",
      "    sampled_as = samples[:, :N].reshape((-1))\n",
      "    sampled_varXs = samples[:,N:2*N].reshape((-1))\n",
      "    sampled_varYs = samples[:,2*N:3*N].reshape((-1))\n",
      "    #sampled_covs = samples[:,3*N:].reshape((-1))\n",
      "    #print sampled_as.shape, sampled_varXs.shape, sampled_varYs.shape\n",
      "    data = np.c_[sampled_as, sampled_varXs,sampled_varYs]#,sampled_covs]\n",
      "    \n",
      "    #reshape the data such that it's 2-D, with amps on one axis and radii on the other.\n",
      "\n",
      "    #n_clusters = N\n",
      "    #fit to clusters\n",
      "    k_means = KMeans(init = 'k-means++',n_clusters = n_clusters, n_init = 50)\n",
      "    labels = k_means.fit_predict(data)\n",
      "\n",
      "    from itertools import cycle\n",
      "    colors = cycle(['r', 'b', 'g', 'm', 'y', 'c'])\n",
      "    fig = plt.figure()\n",
      "    ax = fig.add_subplot(111, projection = '3d')\n",
      "    nSamples = 10000\n",
      "    data = data[:nSamples]\n",
      "    labels = labels[:nSamples]\n",
      "    for cluster, color in izip(xrange(n_clusters), colors):\n",
      "        '''\n",
      "        plt.subplot(311)\n",
      "        plt.title('Amps v. X')\n",
      "        plt.scatter(data[labels==cluster, 0], data[labels==cluster,1], color = color)\n",
      "        plt.subplot(312)\n",
      "        plt.title('Amps v. Y')\n",
      "        plt.scatter(data[labels==cluster,0], data[labels==cluster,2], color = color)\n",
      "        plt.subplot(313)\n",
      "        plt.title('X v. Y')\n",
      "        plt.scatter(data[labels==cluster,1], data[labels==cluster,2], color = color)\n",
      "        '''\n",
      "        ax.scatter(data[labels == cluster, 0],data[labels == cluster, 1],data[labels == cluster, 2], color = color )\n",
      "\n",
      "    plt.show()\n",
      "\n",
      "    #round the data for binning and mode selection\n",
      "    roundData = np.round_(data, decimals = decimals)\n",
      "    clusters = [roundData[labels == i] for i in xrange(n_clusters)]\n",
      "\n",
      "    #get a list of the highest points and their average count\n",
      "    allModes = []\n",
      "    for cluster in clusters:\n",
      "           point, counts = mode(cluster)\n",
      "           #TODO don't forget to add cov here\n",
      "           allModes.append((point[0][0], point[0][1],point[0][2], counts.mean()))\n",
      "\n",
      "    allModes.sort(key = lambda x:x[-1], reverse = True) #sort by highest count\n",
      "    allModes = np.array(allModes)\n",
      "    #select the 1st N popular points in the clusters\n",
      "    modes = allModes[:N,:4]\n",
      "\n",
      "    calc_as, calc_varXs,calc_varYs = modes[:,0], modes[:,1], modes[:,2]#, modes[:,3]\n",
      "    return calc_as, calc_varXs,calc_varYs#, calc_covs "
     ],
     "language": "python",
     "metadata": {},
     "outputs": [],
     "prompt_number": 11
    },
    {
     "cell_type": "code",
     "collapsed": false,
     "input": [
      "samples_file = '/home/mclaughlin6464/Documents/Research/output/CFHTLS_072_2003_samples'\n",
      "samples = np.loadtxt(samples_file, delimiter = ',')"
     ],
     "language": "python",
     "metadata": {},
     "outputs": [],
     "prompt_number": 12
    },
    {
     "cell_type": "code",
     "collapsed": false,
     "input": [
      "calc_as, calc_varXs, calc_varYs = calcsCluster(samples, 2, n_clusters = 4)"
     ],
     "language": "python",
     "metadata": {},
     "outputs": [],
     "prompt_number": 14
    },
    {
     "cell_type": "code",
     "collapsed": false,
     "input": [],
     "language": "python",
     "metadata": {},
     "outputs": []
    }
   ],
   "metadata": {}
  }
 ]
}